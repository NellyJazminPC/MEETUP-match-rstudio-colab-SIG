{
  "nbformat": 4,
  "nbformat_minor": 0,
  "metadata": {
    "colab": {
      "name": "rbasicosig.ipynb",
      "provenance": [],
      "collapsed_sections": [],
      "include_colab_link": true
    },
    "kernelspec": {
      "name": "python3",
      "display_name": "Python 3"
    },
    "language_info": {
      "name": "python"
    }
  },
  "cells": [
    {
      "cell_type": "markdown",
      "metadata": {
        "id": "view-in-github",
        "colab_type": "text"
      },
      "source": [
        "<a href=\"https://colab.research.google.com/github/jdanifalcon/match-rstudio-colab/blob/main/rbasicosig.ipynb\" target=\"_parent\"><img src=\"https://colab.research.google.com/assets/colab-badge.svg\" alt=\"Open In Colab\"/></a>"
      ]
    },
    {
      "cell_type": "code",
      "metadata": {
        "id": "A8qcAM3FN-eu"
      },
      "source": [
        "##Esta es la extensión de colab que nos permite ejecutar R\n",
        "%load_ext rpy2.ipython"
      ],
      "execution_count": 1,
      "outputs": []
    },
    {
      "cell_type": "markdown",
      "metadata": {
        "id": "tGUgC3syOKt4"
      },
      "source": [
        "**Librerías para manejo de archivos de mapas vectoriales y raster**\n",
        "\n",
        "rgdal: nos permite leer archivos shape.\n",
        "raster: nos permite leer archivos raster."
      ]
    },
    {
      "cell_type": "code",
      "metadata": {
        "colab": {
          "base_uri": "https://localhost:8080/"
        },
        "id": "_f8Qe1lbXaSt",
        "outputId": "f8492a15-7fc0-4f42-ed70-486ab099d91a"
      },
      "source": [
        "%%R\n",
        "install.packages(\"rgdal\")\n",
        "install.packages(\"raster\")\n",
        "install.packages(\"rgeos\")\n",
        "library(rgdal)\n",
        "library(raster)"
      ],
      "execution_count": 2,
      "outputs": [
        {
          "output_type": "stream",
          "text": [
            "R[write to console]: Installing package into ‘/usr/local/lib/R/site-library’\n",
            "(as ‘lib’ is unspecified)\n",
            "\n",
            "R[write to console]: also installing the dependency ‘sp’\n",
            "\n",
            "\n",
            "R[write to console]: trying URL 'https://cran.rstudio.com/src/contrib/sp_1.4-5.tar.gz'\n",
            "\n",
            "R[write to console]: Content type 'application/x-gzip'\n",
            "R[write to console]:  length 1049195 bytes (1.0 MB)\n",
            "\n",
            "R[write to console]: =\n",
            "R[write to console]: =\n",
            "R[write to console]: =\n",
            "R[write to console]: =\n",
            "R[write to console]: =\n",
            "R[write to console]: =\n",
            "R[write to console]: =\n",
            "R[write to console]: =\n",
            "R[write to console]: =\n",
            "R[write to console]: =\n",
            "R[write to console]: =\n",
            "R[write to console]: =\n",
            "R[write to console]: =\n",
            "R[write to console]: =\n",
            "R[write to console]: =\n",
            "R[write to console]: =\n",
            "R[write to console]: =\n",
            "R[write to console]: =\n",
            "R[write to console]: =\n",
            "R[write to console]: =\n",
            "R[write to console]: =\n",
            "R[write to console]: =\n",
            "R[write to console]: =\n",
            "R[write to console]: =\n",
            "R[write to console]: =\n",
            "R[write to console]: =\n",
            "R[write to console]: =\n",
            "R[write to console]: =\n",
            "R[write to console]: =\n",
            "R[write to console]: =\n",
            "R[write to console]: =\n",
            "R[write to console]: =\n",
            "R[write to console]: =\n",
            "R[write to console]: =\n",
            "R[write to console]: =\n",
            "R[write to console]: =\n",
            "R[write to console]: =\n",
            "R[write to console]: =\n",
            "R[write to console]: =\n",
            "R[write to console]: =\n",
            "R[write to console]: =\n",
            "R[write to console]: =\n",
            "R[write to console]: =\n",
            "R[write to console]: =\n",
            "R[write to console]: =\n",
            "R[write to console]: =\n",
            "R[write to console]: =\n",
            "R[write to console]: =\n",
            "R[write to console]: =\n",
            "R[write to console]: =\n",
            "R[write to console]: \n",
            "\n",
            "R[write to console]: downloaded 1.0 MB\n",
            "\n",
            "\n",
            "R[write to console]: trying URL 'https://cran.rstudio.com/src/contrib/rgdal_1.5-23.tar.gz'\n",
            "\n",
            "R[write to console]: Content type 'application/x-gzip'\n",
            "R[write to console]:  length 4393536 bytes (4.2 MB)\n",
            "\n",
            "R[write to console]: =\n",
            "R[write to console]: =\n",
            "R[write to console]: =\n",
            "R[write to console]: =\n",
            "R[write to console]: =\n",
            "R[write to console]: =\n",
            "R[write to console]: =\n",
            "R[write to console]: =\n",
            "R[write to console]: =\n",
            "R[write to console]: =\n",
            "R[write to console]: =\n",
            "R[write to console]: =\n",
            "R[write to console]: =\n",
            "R[write to console]: =\n",
            "R[write to console]: =\n",
            "R[write to console]: =\n",
            "R[write to console]: =\n",
            "R[write to console]: =\n",
            "R[write to console]: =\n",
            "R[write to console]: =\n",
            "R[write to console]: =\n",
            "R[write to console]: =\n",
            "R[write to console]: =\n",
            "R[write to console]: =\n",
            "R[write to console]: =\n",
            "R[write to console]: =\n",
            "R[write to console]: =\n",
            "R[write to console]: =\n",
            "R[write to console]: =\n",
            "R[write to console]: =\n",
            "R[write to console]: =\n",
            "R[write to console]: =\n",
            "R[write to console]: =\n",
            "R[write to console]: =\n",
            "R[write to console]: =\n",
            "R[write to console]: =\n",
            "R[write to console]: =\n",
            "R[write to console]: =\n",
            "R[write to console]: =\n",
            "R[write to console]: =\n",
            "R[write to console]: =\n",
            "R[write to console]: =\n",
            "R[write to console]: =\n",
            "R[write to console]: =\n",
            "R[write to console]: =\n",
            "R[write to console]: =\n",
            "R[write to console]: =\n",
            "R[write to console]: =\n",
            "R[write to console]: =\n",
            "R[write to console]: =\n",
            "R[write to console]: \n",
            "\n",
            "R[write to console]: downloaded 4.2 MB\n",
            "\n",
            "\n",
            "R[write to console]: \n",
            "\n",
            "R[write to console]: \n",
            "R[write to console]: The downloaded source packages are in\n",
            "\t‘/tmp/Rtmp7JZzIl/downloaded_packages’\n",
            "R[write to console]: \n",
            "R[write to console]: \n",
            "\n",
            "R[write to console]: Installing package into ‘/usr/local/lib/R/site-library’\n",
            "(as ‘lib’ is unspecified)\n",
            "\n",
            "R[write to console]: trying URL 'https://cran.rstudio.com/src/contrib/raster_3.4-13.tar.gz'\n",
            "\n",
            "R[write to console]: Content type 'application/x-gzip'\n",
            "R[write to console]:  length 582026 bytes (568 KB)\n",
            "\n",
            "R[write to console]: =\n",
            "R[write to console]: =\n",
            "R[write to console]: =\n",
            "R[write to console]: =\n",
            "R[write to console]: =\n",
            "R[write to console]: =\n",
            "R[write to console]: =\n",
            "R[write to console]: =\n",
            "R[write to console]: =\n",
            "R[write to console]: =\n",
            "R[write to console]: =\n",
            "R[write to console]: =\n",
            "R[write to console]: =\n",
            "R[write to console]: =\n",
            "R[write to console]: =\n",
            "R[write to console]: =\n",
            "R[write to console]: =\n",
            "R[write to console]: =\n",
            "R[write to console]: =\n",
            "R[write to console]: =\n",
            "R[write to console]: =\n",
            "R[write to console]: =\n",
            "R[write to console]: =\n",
            "R[write to console]: =\n",
            "R[write to console]: =\n",
            "R[write to console]: =\n",
            "R[write to console]: =\n",
            "R[write to console]: =\n",
            "R[write to console]: =\n",
            "R[write to console]: =\n",
            "R[write to console]: =\n",
            "R[write to console]: =\n",
            "R[write to console]: =\n",
            "R[write to console]: =\n",
            "R[write to console]: =\n",
            "R[write to console]: =\n",
            "R[write to console]: =\n",
            "R[write to console]: =\n",
            "R[write to console]: =\n",
            "R[write to console]: =\n",
            "R[write to console]: =\n",
            "R[write to console]: =\n",
            "R[write to console]: =\n",
            "R[write to console]: =\n",
            "R[write to console]: =\n",
            "R[write to console]: =\n",
            "R[write to console]: =\n",
            "R[write to console]: =\n",
            "R[write to console]: =\n",
            "R[write to console]: =\n",
            "R[write to console]: \n",
            "\n",
            "R[write to console]: downloaded 568 KB\n",
            "\n",
            "\n",
            "R[write to console]: \n",
            "\n",
            "R[write to console]: \n",
            "R[write to console]: The downloaded source packages are in\n",
            "\t‘/tmp/Rtmp7JZzIl/downloaded_packages’\n",
            "R[write to console]: \n",
            "R[write to console]: \n",
            "\n",
            "R[write to console]: Installing package into ‘/usr/local/lib/R/site-library’\n",
            "(as ‘lib’ is unspecified)\n",
            "\n",
            "R[write to console]: trying URL 'https://cran.rstudio.com/src/contrib/rgeos_0.5-5.tar.gz'\n",
            "\n",
            "R[write to console]: Content type 'application/x-gzip'\n",
            "R[write to console]:  length 259567 bytes (253 KB)\n",
            "\n",
            "R[write to console]: =\n",
            "R[write to console]: =\n",
            "R[write to console]: =\n",
            "R[write to console]: =\n",
            "R[write to console]: =\n",
            "R[write to console]: =\n",
            "R[write to console]: =\n",
            "R[write to console]: =\n",
            "R[write to console]: =\n",
            "R[write to console]: =\n",
            "R[write to console]: =\n",
            "R[write to console]: =\n",
            "R[write to console]: =\n",
            "R[write to console]: =\n",
            "R[write to console]: =\n",
            "R[write to console]: =\n",
            "R[write to console]: =\n",
            "R[write to console]: =\n",
            "R[write to console]: =\n",
            "R[write to console]: =\n",
            "R[write to console]: =\n",
            "R[write to console]: =\n",
            "R[write to console]: =\n",
            "R[write to console]: =\n",
            "R[write to console]: =\n",
            "R[write to console]: =\n",
            "R[write to console]: =\n",
            "R[write to console]: =\n",
            "R[write to console]: =\n",
            "R[write to console]: =\n",
            "R[write to console]: =\n",
            "R[write to console]: =\n",
            "R[write to console]: =\n",
            "R[write to console]: =\n",
            "R[write to console]: =\n",
            "R[write to console]: =\n",
            "R[write to console]: =\n",
            "R[write to console]: =\n",
            "R[write to console]: =\n",
            "R[write to console]: =\n",
            "R[write to console]: =\n",
            "R[write to console]: =\n",
            "R[write to console]: =\n",
            "R[write to console]: =\n",
            "R[write to console]: =\n",
            "R[write to console]: =\n",
            "R[write to console]: =\n",
            "R[write to console]: =\n",
            "R[write to console]: =\n",
            "R[write to console]: =\n",
            "R[write to console]: \n",
            "\n",
            "R[write to console]: downloaded 253 KB\n",
            "\n",
            "\n",
            "R[write to console]: \n",
            "\n",
            "R[write to console]: \n",
            "R[write to console]: The downloaded source packages are in\n",
            "\t‘/tmp/Rtmp7JZzIl/downloaded_packages’\n",
            "R[write to console]: \n",
            "R[write to console]: \n",
            "\n",
            "R[write to console]: Loading required package: sp\n",
            "\n",
            "R[write to console]: rgdal: version: 1.5-23, (SVN revision 1121)\n",
            "Geospatial Data Abstraction Library extensions to R successfully loaded\n",
            "Loaded GDAL runtime: GDAL 2.2.3, released 2017/11/20\n",
            "Path to GDAL shared files: /usr/share/gdal/2.2\n",
            "GDAL binary built with GEOS: TRUE \n",
            "Loaded PROJ runtime: Rel. 4.9.3, 15 August 2016, [PJ_VERSION: 493]\n",
            "Path to PROJ shared files: (autodetected)\n",
            "Linking to sp version:1.4-5\n",
            "\n"
          ],
          "name": "stderr"
        }
      ]
    },
    {
      "cell_type": "markdown",
      "metadata": {
        "id": "9xq6yZUGXsf_"
      },
      "source": [
        "**Descarga de los datos a tu drive**\n",
        "- gdown nos ayuda a descargar los datos públicos de mi drive hacia el tuyo."
      ]
    },
    {
      "cell_type": "code",
      "metadata": {
        "id": "no0osegP_ajy"
      },
      "source": [
        "%%R\n",
        "#Archivo INEGI_Entidad_.shx\n",
        "system(\"gdown --id 1QwuDgUbqEbm5hbJhzyLdREZxWQ3DIf62\")#https://drive.google.com/file/d/1QwuDgUbqEbm5hbJhzyLdREZxWQ3DIf62/view?usp=sharing\n",
        "#Archivo INEGI_Entidad_.shp\n",
        "system(\"gdown --id 1CgPFApI2gKhZ91sUAtlJ37qXvVT5oA47\")#https://drive.google.com/file/d/1CgPFApI2gKhZ91sUAtlJ37qXvVT5oA47/view?usp=sharing\n",
        "#Archivo INEGI_Entidad_.dbf\n",
        "system(\"gdown --id 12Dv6PpmUKkqmsNm6Q4Q93ekJM4wzWasT\")#https://drive.google.com/file/d/12Dv6PpmUKkqmsNm6Q4Q93ekJM4wzWasT/view?usp=sharing\n"
      ],
      "execution_count": 3,
      "outputs": []
    },
    {
      "cell_type": "markdown",
      "metadata": {
        "id": "_1oniXXbHXWu"
      },
      "source": [
        "**Usando GDAL para leer un shape**\n",
        "\n",
        "\n",
        "\n",
        "*   La función readOGR leé el shape y carga la base de datos en un objeto.\n",
        "*   La librería rgdal sobrecarga la funcion \"plot\", para que pueda graficar los shapes.\n",
        "\n"
      ]
    },
    {
      "cell_type": "code",
      "metadata": {
        "colab": {
          "base_uri": "https://localhost:8080/",
          "height": 564
        },
        "id": "vI0wDa7fHMfF",
        "outputId": "655044bb-21a5-4728-c529-90fbf44a524a"
      },
      "source": [
        "%%R\n",
        "#Cargamos el shape\n",
        "shapeMex <- readOGR(\"./INEGI_Entidad_.shp\")\n",
        "#Graficamos el shape\n",
        "plot(shapeMex)"
      ],
      "execution_count": 4,
      "outputs": [
        {
          "output_type": "stream",
          "text": [
            "OGR data source with driver: ESRI Shapefile \n",
            "Source: \"/content/INEGI_Entidad_.shp\", layer: \"INEGI_Entidad_\"\n",
            "with 382 features\n",
            "It has 2 fields\n"
          ],
          "name": "stdout"
        },
        {
          "output_type": "display_data",
          "data": {
            "image/png": "[encoded data removed]"
          },
          "metadata": {
            "tags": []
          }
        }
      ]
    },
    {
      "cell_type": "markdown",
      "metadata": {
        "id": "bXqYH6WvIwLf"
      },
      "source": [
        "**Ver que campos contiene la base de datos y extraer un submapa**\n",
        "- Vemos los nombre de campos\n",
        "\n",
        "- Vemos los valores \"únicos\" en un campo\n",
        "\n",
        "- Extraemos una parte del mapa filtrando la base de datos."
      ]
    },
    {
      "cell_type": "code",
      "metadata": {
        "colab": {
          "base_uri": "https://localhost:8080/",
          "height": 917
        },
        "id": "FktvReUxJuDD",
        "outputId": "ca3dbdfe-47f6-45a5-e06b-1478dbf4f329"
      },
      "source": [
        "%%R\n",
        "#Vemos como se llaman los campos\n",
        "print(names(shapeMex))\n",
        "#Con lo de arriba ya vimos que uno de los campos es \"NOMBRE\"\n",
        "print(unique(shapeMex$NOMBRE))\n",
        "#Con lo de arriba vimos que un elemento es \"Colima\"\n",
        "#Extraemos el subshape\n",
        "shapeColima=shapeMex[shapeMex$NOMBRE==\"Colima\",]\n",
        "#Graficamos el mapa de colima extraido\n",
        "plot(shapeColima)\n",
        "print(shapeColima)"
      ],
      "execution_count": 5,
      "outputs": [
        {
          "output_type": "stream",
          "text": [
            "[1] \"ID\"     \"NOMBRE\"\n",
            " [1] \"Yucatán\"                         \"Nayarit\"                        \n",
            " [3] \"Nuevo León\"                      \"Oaxaca\"                         \n",
            " [5] \"Puebla\"                          \"Sonora\"                         \n",
            " [7] \"Querétaro\"                       \"Quintana Roo\"                   \n",
            " [9] \"Baja California Sur\"             \"Tabasco\"                        \n",
            "[11] \"Tamaulipas\"                      \"Tlaxcala\"                       \n",
            "[13] \"Veracruz de Ignacio de la Llave\" \"Sinaloa\"                        \n",
            "[15] \"Baja California\"                 \"San Luis Potosí\"                \n",
            "[17] \"Zacatecas\"                       \"Ciudad de México\"               \n",
            "[19] \"Guerrero\"                        \"Hidalgo\"                        \n",
            "[21] \"Jalisco\"                         \"Durango\"                        \n",
            "[23] \"Guanajuato\"                      \"Morelos\"                        \n",
            "[25] \"México\"                          \"Michoacán de Ocampo\"            \n",
            "[27] \"Aguascalientes\"                  \"Campeche\"                       \n",
            "[29] \"Colima\"                          \"Coahuila de Zaragoza\"           \n",
            "[31] \"Chiapas\"                         \"Chihuahua\"                      \n",
            "class       : SpatialPolygonsDataFrame \n",
            "features    : 6 \n",
            "extent      : -114.7595, -103.4863, 18.33886, 19.51252  (xmin, xmax, ymin, ymax)\n",
            "crs         : NA \n",
            "variables   : 2\n",
            "names       : ID, NOMBRE \n",
            "min values  : 06, Colima \n",
            "max values  : 06, Colima \n"
          ],
          "name": "stdout"
        },
        {
          "output_type": "display_data",
          "data": {
            "image/png": "[encoded data removed]"
          },
          "metadata": {
            "tags": []
          }
        }
      ]
    },
    {
      "cell_type": "markdown",
      "metadata": {
        "id": "ArigLNDNLxUR"
      },
      "source": [
        "**Recortar una parte del shape**\n",
        "\n",
        "- El mapa de colima tiene algunas islas que no son de interés para la tarea. Las vamos a recortar haciendo un rectangulo alrededor de la parte continental."
      ]
    },
    {
      "cell_type": "code",
      "metadata": {
        "colab": {
          "base_uri": "https://localhost:8080/",
          "height": 497
        },
        "id": "tuZAbDD8MKLf",
        "outputId": "e81811d0-8c7b-46c7-cc68-34d5140e62d0"
      },
      "source": [
        "%%R\n",
        "# print(shapeColima) #Sacamos los datos de extensión de shape\n",
        "#Hacemos un rectangulo mas o menos que cubra la parte continental de Colima\n",
        "pol=extent(cbind(c(-110,-103.4863),c(18.33886, 19.51252)))\n",
        "#Recortamos la intersección entre el rectangulo y \n",
        "shapeTerraColima=crop(shapeColima,pol)\n",
        "plot(shapeTerraColima)"
      ],
      "execution_count": 6,
      "outputs": [
        {
          "output_type": "display_data",
          "data": {
            "image/png": "[encoded data removed]"
          },
          "metadata": {
            "tags": []
          }
        }
      ]
    },
    {
      "cell_type": "markdown",
      "metadata": {
        "id": "frqA7qAUPGd5"
      },
      "source": [
        "**Guardamos el shape**\n",
        "\n",
        "-Almacenamos el shape que acabamos de recorta\n"
      ]
    },
    {
      "cell_type": "code",
      "metadata": {
        "id": "Jm8I0Bj4PUXf"
      },
      "source": [
        "%%R\n",
        "\n",
        "writeOGR(obj=shapeTerraColima,layer=\"./colima\",dsn=\".\",driver=\"ESRI Shapefile\", overwrite_layer=TRUE)\n"
      ],
      "execution_count": 7,
      "outputs": []
    }
  ]
}